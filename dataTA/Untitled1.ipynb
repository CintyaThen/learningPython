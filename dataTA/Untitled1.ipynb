{
 "cells": [
  {
   "cell_type": "code",
   "execution_count": 38,
   "id": "92fd68da",
   "metadata": {},
   "outputs": [
    {
     "name": "stdout",
     "output_type": "stream",
     "text": [
      "                     start                 end id_colums  intercontact\n",
      "0      2004-07-19 12:04:13 2004-07-19 12:08:45       1,3           NaN\n",
      "1      2004-07-19 12:37:31 2004-07-19 12:38:19       4,7           NaN\n",
      "2      2004-07-19 12:38:21 2004-07-19 12:41:58       4,7      0.000556\n",
      "3      2004-07-20 08:00:44 2004-07-20 08:00:55       4,5           NaN\n",
      "4      2004-07-20 08:01:10 2004-07-20 08:02:48       4,5      0.004167\n",
      "...                    ...                 ...       ...           ...\n",
      "786296 2005-06-20 18:12:41 2005-06-20 18:56:36     14,78      0.000000\n",
      "786297 2005-06-21 12:53:48 2005-06-21 12:53:53     14,78     17.953333\n",
      "786298 2005-06-21 12:54:40 2005-06-21 12:54:47     14,78      0.013056\n",
      "786299 2005-06-21 14:51:02 2005-06-21 14:54:18     14,78      1.937500\n",
      "786300 2005-06-22 16:13:31 2005-06-22 16:13:32     18,40     54.885000\n",
      "\n",
      "[786301 rows x 4 columns]\n"
     ]
    }
   ],
   "source": [
    "import pandas as pd # data processing\n",
    "import numpy as np\n",
    "#import sysmpy as sy\n",
    "df = pd.read_csv(\"location_dataset.csv\", usecols=['start','end','id_colums'],parse_dates = ['start','end'])\n",
    "df = pd.DataFrame(df)\n",
    "#df['intercontact'] = df.groupby(['id_colums','start','end']).apply(lambda x:x['start'] - x['end'].shift(1))\n",
    "def getIntercontact(x):\n",
    "    x['intercontact'] = x['start'] - x['end'].shift(1)\n",
    "    #x['intercontact'] = x['intercontact'] / np.timedelta(1,H)\n",
    "    return x\n",
    "dfNew = df.groupby(['id_colums']).apply(getIntercontact)\n",
    "dfNew['intercontact'] = dfNew['intercontact'] / np.timedelta64(1,'h')\n",
    "print(dfNew)\n",
    "dfNew.to_csv('Intercontact_Dataset.csv', index=False,      encoding='utf-8')"
   ]
  },
  {
   "cell_type": "code",
   "execution_count": 46,
   "id": "75fd0361",
   "metadata": {},
   "outputs": [
    {
     "name": "stdout",
     "output_type": "stream",
     "text": [
      "                               intercontact\n",
      "start               id_colums              \n",
      "2004-07-19 12:00:00 1,3                 NaN\n",
      "                    4,7            0.000556\n",
      "2004-07-20 06:00:00 4,5            1.662222\n",
      "                    4,7           11.430139\n",
      "                    5,7            0.230455\n",
      "...                                     ...\n",
      "2005-06-20 06:00:00 18,40        206.688056\n",
      "2005-06-20 12:00:00 14,78         15.592222\n",
      "2005-06-20 18:00:00 14,78          0.449583\n",
      "2005-06-21 12:00:00 14,78          6.634630\n",
      "2005-06-22 12:00:00 18,40         54.885000\n",
      "\n",
      "[137985 rows x 1 columns]\n"
     ]
    }
   ],
   "source": [
    "df = pd.read_csv(\"Intercontact_Dataset.csv\", usecols=['start','id_colums', 'intercontact'],\n",
    "                 index_col='start', parse_dates = ['start'])\n",
    "df = pd.DataFrame(df)\n",
    "#df.set_index(keys = [\"start\", \"id_colums\"])\n",
    "#df = df.groupby('id_colums').resample('6H').mean().reset_index()\n",
    "#df = df.reset_index()\n",
    "df = df.groupby([df.index.floor(\"6H\"), \"id_colums\"]).mean()\n",
    "print(df)\n",
    "#df.to_csv('MeanIntercontact_Dataset.csv',      encoding='utf-8')"
   ]
  },
  {
   "cell_type": "code",
   "execution_count": 67,
   "id": "7e5a044d",
   "metadata": {
    "scrolled": true
   },
   "outputs": [
    {
     "ename": "SyntaxError",
     "evalue": "invalid syntax (<ipython-input-67-578c56189e55>, line 7)",
     "output_type": "error",
     "traceback": [
      "\u001b[1;36m  File \u001b[1;32m\"<ipython-input-67-578c56189e55>\"\u001b[1;36m, line \u001b[1;32m7\u001b[0m\n\u001b[1;33m    pct = .apply(lambda x:  tuple(int(x) for ele in sub.split(K)) for sub in df['area id'])\u001b[0m\n\u001b[1;37m          ^\u001b[0m\n\u001b[1;31mSyntaxError\u001b[0m\u001b[1;31m:\u001b[0m invalid syntax\n"
     ]
    }
   ],
   "source": [
    "import re\n",
    "import numpy as np\n",
    "import pandas as pd # data processing\n",
    "df = pd.read_csv(\"locationInfo.csv\", parse_dates = True)\n",
    "df = pd.DataFrame(df)\n",
    "K = \",\"\n",
    "pct = .apply(lambda x:  tuple(int(x) for ele in sub.split(K)) for sub in df['area id'])\n",
    "df['pct'] = pct\n",
    "#df['area id'] = tuple(int(ele) for ele in sub.split(K)) for sub in df['area id']\n",
    "\"\"\"df['area id'] = df['area id'].convert_dtypes()\n",
    "df['area id'] = df['area id'].apply(lambda x: x.replace('[','').replace(']',''))\n",
    "#df['area id'] =[int(x) if x.isnumeric() else x for x in df['area id'] ]\n",
    "pct = df['area id'].apply(lambda x: int(x)**2 )\n",
    "df['pct'] = pct\n",
    "def summLoc():\n",
    "    return sum(2**x)\n",
    "def coerce_to_float(val):\n",
    "    try:\n",
    "       return float(val)\n",
    "    except ValueError:\n",
    "       return val\n",
    "\n",
    "df[\"area id\"] = df[\"area id\"].apply(lambda x: coerce_to_float(x))\n",
    "for x in df['area id']:\n",
    "    def res(x): return x*2\n",
    "    #ans.append(res(x))\n",
    "    print(df.info())\"\"\"\n",
    "#df[\"area id\"] = df[\"area id\"].apply(lambda x: x[1])\n",
    "#df[\"area id\"] = df[\"area id\"].str.split(\",\").apply(lambda x: [int(i, 16) for i in x])\n",
    "print(df.tail(20))\n",
    "#print(df.info())"
   ]
  },
  {
   "cell_type": "code",
   "execution_count": 23,
   "id": "bf242ebd",
   "metadata": {},
   "outputs": [
    {
     "name": "stdout",
     "output_type": "stream",
     "text": [
      "       id_colums area id\n",
      "137965     14,78      15\n",
      "137966     14,78   1  15\n",
      "137967     14,78      15\n",
      "137968     14,78      15\n",
      "137969     14,78       1\n",
      "137970     14,78       1\n",
      "137971     14,78      15\n",
      "137972     14,78      15\n",
      "137973     14,78      15\n",
      "137974     14,78   1  15\n",
      "137975     14,78      15\n",
      "137976     14,78       1\n",
      "137977     14,78      15\n",
      "137978     14,78      15\n",
      "137979     14,78      15\n",
      "137980     18,40      75\n",
      "137981     14,78      15\n",
      "137982     14,78      15\n",
      "137983     14,78       1\n",
      "137984     18,40      75\n"
     ]
    },
    {
     "data": {
      "text/plain": [
       "'\\ndf = df.groupby([df.index.floor(\"6H\"), \"id_colums\"]).agg({\\'area id\\': lambda x: list(x)})\\n\\ndf = pd.read_csv(\"locationInfo.csv\")\\ndf = pd.DataFrame(df)\\n\\nprint(df.head())'"
      ]
     },
     "execution_count": 23,
     "metadata": {},
     "output_type": "execute_result"
    }
   ],
   "source": [
    "import pandas as pd # data processing\n",
    "import numpy as np\n",
    "import re\n",
    "#import sysmpy as sy\n",
    "df = pd.read_csv(\"locationInfo.csv\",usecols=['area id','id_colums'])\n",
    "df['area id'] = df['area id'].apply(lambda x: x.replace('[','').replace(']','').replace(',',\" \"))\n",
    "df = pd.DataFrame(df)\n",
    "print(df.tail(20))\n",
    "df.to_csv('areaforPrepo.csv',   index=False,    encoding='utf-8')\n",
    "\"\"\"#print(df.head())\n",
    "#df.set_index(keys = [\"start\", \"id_colums\"])\n",
    "def summLoc():\n",
    "    return sum(2**x)\n",
    "df = df.groupby([df.index.floor(\"6H\"), \"id_colums\"]).agg({'area id': lambda x: list(set(x))})\n",
    "\n",
    "#df['area id'] = df['area id'].apply(lambda x: x.replace('[','').replace(']','').replace(',',\";\"))\n",
    "#df = df[\"area id\"].apply(lambda x: [int(i, 16) for i in x])\n",
    "\n",
    "#print(df.tail())\n",
    "#print(df[\"area id\"].isna().sum())\n",
    "#print(df)\n",
    "\n",
    "df['intercontact'] = df.groupby(['id_colums','start','end']).apply(lambda x:x['start'] - x['end'].shift(1))\n",
    "df = df['intercontact']\n",
    "\n",
    "\n",
    "Slice data and list of area id\n",
    "\n",
    "\n",
    "df = pd.DataFrame(df)\n",
    "#\n",
    "\n",
    "\"\"\"\n",
    "\"\"\"\n",
    "df = df.groupby([df.index.floor(\"6H\"), \"id_colums\"]).agg({'area id': lambda x: list(x)})\n",
    "\n",
    "df = pd.read_csv(\"locationInfo.csv\")\n",
    "df = pd.DataFrame(df)\n",
    "\n",
    "print(df.head())\"\"\"\n",
    "#df = pd.read_csv(\"locationInfo.csv\", usecols=['area id'])\n",
    "#df = pd.DataFrame(df)\n",
    "#df = df.set_index(['start','id_colums'])\n",
    "\n",
    "#def sumList(row):\n",
    "#    return sum(listRow)\n",
    "#s = [str (i) for i in df['area id']]\n",
    "#res = str(\" \".join(s))\n",
    "#print(res)\n",
    "#suml  = df['area id'].to_numpy()\n",
    "#df[\"sum\"] = sum(suml)\n",
    "#df['area id'] = df['area id'].astype(str).astype(int)\n",
    "#es = np.sum(df['area id'].iloc[1])\n",
    "#print(res)\n"
   ]
  },
  {
   "cell_type": "code",
   "execution_count": 24,
   "id": "16277903",
   "metadata": {},
   "outputs": [
    {
     "data": {
      "text/plain": [
       "[<matplotlib.lines.Line2D at 0x1dc1b412fd0>]"
      ]
     },
     "execution_count": 24,
     "metadata": {},
     "output_type": "execute_result"
    },
    {
     "data": {
      "image/png": "[encoded data removed]",
      "text/plain": [
       "<Figure size 432x288 with 1 Axes>"
      ]
     },
     "metadata": {
      "needs_background": "light"
     },
     "output_type": "display_data"
    }
   ],
   "source": [
    "import pandas as pd # data processing\n",
    "import matplotlib.pyplot as plt\n",
    "df = pd.read_csv(\"MeanIntercontact_Dataset.csv\", index_col='start', parse_dates=True)\n",
    "\n",
    "plt.xlabel(\"time\")\n",
    "plt.ylabel(\"intercontact\")\n",
    "plt.title(\"Intercontact Data\")\n",
    "plt.plot(df[\"intercontact\"])\n",
    "#df = pd.DataFrame(df)\n",
    "#print(df)"
   ]
  },
  {
   "cell_type": "code",
   "execution_count": 15,
   "id": "589d60e8",
   "metadata": {},
   "outputs": [
    {
     "data": {
      "image/png": "[encoded data removed]",
      "text/plain": [
       "<Figure size 432x288 with 1 Axes>"
      ]
     },
     "metadata": {
      "needs_background": "light"
     },
     "output_type": "display_data"
    }
   ],
   "source": [
    "plt.plot(data.CLOSE)\n",
    "plt.grid(False)\n",
    "plt.show()"
   ]
  },
  {
   "cell_type": "code",
   "execution_count": null,
   "id": "4ab3de9c",
   "metadata": {},
   "outputs": [],
   "source": []
  }
 ],
 "metadata": {
  "kernelspec": {
   "display_name": "Python 3",
   "language": "python",
   "name": "python3"
  },
  "language_info": {
   "codemirror_mode": {
    "name": "ipython",
    "version": 3
   },
   "file_extension": ".py",
   "mimetype": "text/x-python",
   "name": "python",
   "nbconvert_exporter": "python",
   "pygments_lexer": "ipython3",
   "version": "3.8.8"
  }
 },
 "nbformat": 4,
 "nbformat_minor": 5
}
