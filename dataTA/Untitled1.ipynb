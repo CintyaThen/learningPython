{
 "cells": [
  {
   "cell_type": "code",
   "execution_count": 23,
   "id": "92fd68da",
   "metadata": {},
   "outputs": [
    {
     "name": "stdout",
     "output_type": "stream",
     "text": [
      "                     start                 end id_colums  intercontact\n",
      "0      2004-07-19 12:04:13 2004-07-19 12:08:45       1,3           NaN\n",
      "1      2004-07-19 12:37:31 2004-07-19 12:38:19       4,7           NaN\n",
      "2      2004-07-19 12:38:21 2004-07-19 12:41:58       4,7      0.000556\n",
      "3      2004-07-20 08:00:44 2004-07-20 08:00:55       4,5           NaN\n",
      "4      2004-07-20 08:01:10 2004-07-20 08:02:48       4,5      0.004167\n",
      "...                    ...                 ...       ...           ...\n",
      "786296 2005-06-20 18:12:41 2005-06-20 18:56:36     14,78      0.000000\n",
      "786297 2005-06-21 12:53:48 2005-06-21 12:53:53     14,78     17.953333\n",
      "786298 2005-06-21 12:54:40 2005-06-21 12:54:47     14,78      0.013056\n",
      "786299 2005-06-21 14:51:02 2005-06-21 14:54:18     14,78      1.937500\n",
      "786300 2005-06-22 16:13:31 2005-06-22 16:13:32     18,40     54.885000\n",
      "\n",
      "[786301 rows x 4 columns]\n"
     ]
    }
   ],
   "source": [
    "import pandas as pd # data processing\n",
    "import numpy as np\n",
    "#import sysmpy as sy\n",
    "df = pd.read_csv(\"location_dataset.csv\", usecols=['start','end','id_colums'],parse_dates = ['start','end'])\n",
    "df = pd.DataFrame(df)\n",
    "#df['intercontact'] = df.groupby(['id_colums','start','end']).apply(lambda x:x['start'] - x['end'].shift(1))\n",
    "def getIntercontact(x):\n",
    "    x['intercontact'] = x['start'] - x['end'].shift(1)\n",
    "    #x['intercontact'] = x['intercontact'] / np.timedelta(1,H)\n",
    "    return x\n",
    "dfNew = df.groupby(['id_colums']).apply(getIntercontact)\n",
    "dfNew['intercontact'] = dfNew['intercontact'] / np.timedelta64(1,'h')\n",
    "print(dfNew)\n",
    "dfNew.to_csv('Intercontact_Dataset.csv', index=False,      encoding='utf-8')"
   ]
  },
  {
   "cell_type": "code",
   "execution_count": 9,
   "id": "75fd0361",
   "metadata": {},
   "outputs": [
    {
     "ename": "NameError",
     "evalue": "name 'dfnew' is not defined",
     "output_type": "error",
     "traceback": [
      "\u001b[1;31m---------------------------------------------------------------------------\u001b[0m",
      "\u001b[1;31mNameError\u001b[0m                                 Traceback (most recent call last)",
      "\u001b[1;32m<ipython-input-9-5f432d20730e>\u001b[0m in \u001b[0;36m<module>\u001b[1;34m\u001b[0m\n\u001b[0;32m     13\u001b[0m \u001b[1;31m#df = df.reset_index()\u001b[0m\u001b[1;33m\u001b[0m\u001b[1;33m\u001b[0m\u001b[1;33m\u001b[0m\u001b[0m\n\u001b[0;32m     14\u001b[0m \u001b[0mdf\u001b[0m \u001b[1;33m=\u001b[0m \u001b[0mdf\u001b[0m\u001b[1;33m.\u001b[0m\u001b[0mgroupby\u001b[0m\u001b[1;33m(\u001b[0m\u001b[1;33m[\u001b[0m\u001b[0mdf\u001b[0m\u001b[1;33m.\u001b[0m\u001b[0mindex\u001b[0m\u001b[1;33m.\u001b[0m\u001b[0mfloor\u001b[0m\u001b[1;33m(\u001b[0m\u001b[1;34m\"6H\"\u001b[0m\u001b[1;33m)\u001b[0m\u001b[1;33m,\u001b[0m \u001b[1;34m\"id_colums\"\u001b[0m\u001b[1;33m]\u001b[0m\u001b[1;33m)\u001b[0m\u001b[1;33m.\u001b[0m\u001b[0mmean\u001b[0m\u001b[1;33m(\u001b[0m\u001b[1;33m)\u001b[0m\u001b[1;33m\u001b[0m\u001b[1;33m\u001b[0m\u001b[0m\n\u001b[1;32m---> 15\u001b[1;33m \u001b[0mprint\u001b[0m\u001b[1;33m(\u001b[0m\u001b[0mdfnew\u001b[0m\u001b[1;33m)\u001b[0m\u001b[1;33m\u001b[0m\u001b[1;33m\u001b[0m\u001b[0m\n\u001b[0m\u001b[0;32m     16\u001b[0m \u001b[1;31m#df.to_csv('MeanIntercontact_Dataset.csv',      encoding='utf-8')\u001b[0m\u001b[1;33m\u001b[0m\u001b[1;33m\u001b[0m\u001b[1;33m\u001b[0m\u001b[0m\n",
      "\u001b[1;31mNameError\u001b[0m: name 'dfnew' is not defined"
     ]
    }
   ],
   "source": [
    "import pandas as pd # data processing\n",
    "import numpy as np\n",
    "df = pd.read_csv(\"Intercontact_Dataset.csv\", usecols=['start','id_colums', 'intercontact'],\n",
    "                 index_col='start', parse_dates = ['start'])\n",
    "df = pd.DataFrame(df)\n",
    "#f['intercontact'] = \n",
    "\n",
    "\n",
    "\n",
    "\n",
    "#df.set_index(keys = [\"start\", \"id_colums\"])\n",
    "#df = df.groupby('id_colums').resample('6H').mean().reset_index()\n",
    "#df = df.reset_index()\n",
    "df = df.groupby([df.index.floor(\"6H\"), \"id_colums\"]).mean()\n",
    "print(dfnew)\n",
    "#df.to_csv('MeanIntercontact_Dataset.csv',      encoding='utf-8')"
   ]
  },
  {
   "cell_type": "markdown",
   "id": "b7b019f8",
   "metadata": {},
   "source": [
    "INTERCONTACT PER_WINDOW_PER_ID"
   ]
  },
  {
   "cell_type": "code",
   "execution_count": 8,
   "id": "88d4c515",
   "metadata": {},
   "outputs": [
    {
     "name": "stdout",
     "output_type": "stream",
     "text": [
      "                 start                 end id_colums  intercontact\n",
      "0  2004-07-19 12:04:13 2004-07-19 12:08:45       1,3           NaN\n",
      "1  2004-07-19 12:37:31 2004-07-19 12:38:19       4,7           NaN\n",
      "2  2004-07-19 12:38:21 2004-07-19 12:41:58       4,7      0.000556\n",
      "3  2004-07-20 08:00:44 2004-07-20 08:00:55       4,5           NaN\n",
      "4  2004-07-20 08:01:10 2004-07-20 08:02:48       4,5      0.004167\n",
      "5  2004-07-20 09:02:22 2004-07-20 09:02:32       5,7           NaN\n",
      "6  2004-07-20 09:07:28 2004-07-20 09:07:31       5,7      0.082222\n",
      "7  2004-07-20 09:07:31 2004-07-20 09:07:36       5,7      0.000000\n",
      "8  2004-07-20 09:07:58 2004-07-20 09:08:11       5,7      0.006111\n",
      "9  2004-07-20 09:08:21 2004-07-20 09:08:56       5,7      0.002778\n",
      "10 2004-07-20 09:39:52 2004-07-20 09:41:01       4,7           NaN\n",
      "11 2004-07-20 09:39:52 2004-07-20 09:41:01       5,7      0.515556\n",
      "12 2004-07-20 09:43:32 2004-07-20 09:43:33       5,7      0.041944\n",
      "13 2004-07-20 09:52:30 2004-07-20 09:53:09       5,7      0.149167\n",
      "14 2004-07-20 10:59:09 2004-07-20 10:59:18       5,7      1.100000\n",
      "15 2004-07-20 11:22:01 2004-07-20 11:22:17       4,5      3.320278\n",
      "16 2004-07-20 11:34:44 2004-07-20 11:35:11       4,7      1.895278\n",
      "17 2004-07-20 11:34:57 2004-07-20 11:35:11       5,7      0.594167\n",
      "18 2004-07-20 11:35:58 2004-07-20 11:36:20       5,7      0.013056\n",
      "19 2004-07-20 11:38:08 2004-07-20 11:39:19       5,7      0.030000\n",
      "20 2004-07-20 12:14:03 2004-07-20 12:14:04       5,7           NaN\n",
      "21 2004-07-20 12:20:58 2004-07-20 12:21:31       5,7      0.115000\n",
      "22 2004-07-20 12:34:26 2004-07-20 12:34:48       4,5           NaN\n",
      "23 2004-07-20 12:36:46 2004-07-20 12:37:06       5,7      0.254167\n",
      "24 2004-07-20 12:37:47 2004-07-20 12:37:52       4,7           NaN\n",
      "25 2004-07-20 12:37:47 2004-07-20 12:38:07       4,5      0.049722\n",
      "26 2004-07-20 12:44:10 2004-07-20 12:44:25       4,7      0.105000\n",
      "27 2004-07-20 12:51:06 2004-07-20 12:51:36       4,7      0.111389\n",
      "28 2004-07-20 12:58:45 2004-07-20 12:59:02       4,5      0.343889\n",
      "29 2004-07-20 13:00:34 2004-07-20 13:00:57       4,5      0.025556\n",
      "30 2004-07-20 13:01:19 2004-07-20 13:01:22       4,7      0.161944\n",
      "31 2004-07-20 13:01:19 2004-07-20 13:01:49       5,7      0.403611\n",
      "32 2004-07-20 13:09:15 2004-07-20 13:09:32       4,7      0.131389\n",
      "33 2004-07-20 13:14:43 2004-07-20 13:14:53       4,7      0.086389\n",
      "34 2004-07-20 13:34:04 2004-07-20 13:34:22       4,7      0.319722\n",
      "35 2004-07-20 13:59:49 2004-07-20 14:04:08       4,7      0.424167\n",
      "36 2004-07-21 05:30:34 2004-07-21 05:30:36       5,7           NaN\n",
      "37 2004-07-21 05:45:30 2004-07-21 05:45:46       5,7      0.248333\n",
      "38 2004-07-21 05:47:52 2004-07-21 05:47:57       5,7      0.035000\n",
      "39 2004-07-21 05:58:33 2004-07-21 05:58:40       5,7      0.176667\n",
      "40 2004-07-21 05:58:54 2004-07-21 05:59:01       5,7      0.003889\n",
      "41 2004-07-21 06:05:50 2004-07-21 06:06:02       5,7           NaN\n",
      "42 2004-07-21 06:06:02 2004-07-21 06:06:20       5,7      0.000000\n",
      "43 2004-07-21 06:22:22 2004-07-21 06:22:56       5,7      0.267222\n",
      "44 2004-07-21 06:24:08 2004-07-21 06:24:28       5,7      0.020000\n",
      "45 2004-07-21 06:34:40 2004-07-21 06:34:58       5,7      0.170000\n",
      "46 2004-07-21 06:35:30 2004-07-21 06:36:07       5,7      0.008889\n",
      "47 2004-07-21 06:50:50 2004-07-21 07:00:29       5,7      0.245278\n",
      "48 2004-07-21 07:02:15 2004-07-21 07:02:47       5,7      0.029444\n",
      "49 2004-07-21 07:06:30 2004-07-21 07:06:34       5,7      0.061944\n"
     ]
    }
   ],
   "source": [
    "import pandas as pd # data processing\n",
    "import numpy as np\n",
    "#import sysmpy as sy\n",
    "df = pd.read_csv(\"location_dataset.csv\", usecols=['start','end','id_colums'],parse_dates = ['start','end'])\n",
    "df = pd.DataFrame(df)\n",
    "\n",
    "\n",
    "\n",
    "#df['intercontact'] = df.groupby(['id_colums','start','end']).apply(lambda x:x['start'] - x['end'].shift(1))\n",
    "\n",
    "#df['hour'] = df['start'].dt.hour df = df.groupby('hour')['id_colums'].apply(getIntercontact)\n",
    "\n",
    "#df['intercontact'] = df['start'].rolling('6h').groupby(['id_colums']).apply(getIntercontact)\n",
    "#dfNew = df.groupby(['id_colums']).apply(getIntercontact)\n",
    "\n",
    "#df.set_index('start_time', inplace=True)\n",
    "#interval = \n",
    "def getIntercontact(x):\n",
    "    x['intercontact'] = x['start'] - x['end'].shift(1)\n",
    "   # x['intercontact'] = x['intercontact'] / np.timedelta(1,H)\n",
    "    return x\n",
    "dfnew = df.groupby([pd.Grouper(key='start', freq='6H'), 'id_colums']).apply(getIntercontact)\n",
    "dfnew['intercontact'] = dfnew['intercontact'] / np.timedelta64(1,'h')\n",
    "#interval = pd.date_range(start=min(df.index), end=max(df.end_time), freq='15Min')\n",
    "#dfNew = df.groupby(['id_colums']).apply(getIntercontact)\n",
    "#dfNew['intercontact'] = dfNew['intercontact'] / np.timedelta64(1,'h')\n",
    "print(dfnew.head(50))\n",
    "#dfnew.to_csv('Intercontact_Window.csv',  index=False,    encoding='utf-8')"
   ]
  },
  {
   "cell_type": "markdown",
   "id": "984df111",
   "metadata": {},
   "source": [
    "MEAN_INTERCONTACT PER_WINDOW_PER_ID"
   ]
  },
  {
   "cell_type": "code",
   "execution_count": 12,
   "id": "1a7c6957",
   "metadata": {
    "scrolled": true
   },
   "outputs": [
    {
     "name": "stdout",
     "output_type": "stream",
     "text": [
      "                               intercontact\n",
      "start               id_colums              \n",
      "2004-07-19 12:00:00 1,3            0.000000\n",
      "                    4,7            0.000556\n",
      "2004-07-20 06:00:00 4,5            1.662222\n",
      "                    4,7            1.895278\n",
      "                    5,7            0.230455\n",
      "...                                     ...\n",
      "2005-06-20 06:00:00 18,40          0.000000\n",
      "2005-06-20 12:00:00 14,78          0.000000\n",
      "2005-06-20 18:00:00 14,78          0.000000\n",
      "2005-06-21 12:00:00 14,78          0.975278\n",
      "2005-06-22 12:00:00 18,40          0.000000\n",
      "\n",
      "[137985 rows x 1 columns]\n"
     ]
    }
   ],
   "source": [
    "import pandas as pd # data processing\n",
    "import numpy as np\n",
    "df = pd.read_csv(\"Intercontact_Window.csv\", usecols=['start','id_colums', 'intercontact'],\n",
    "                 index_col='start', parse_dates = ['start'])\n",
    "df = pd.DataFrame(df)\n",
    "df = df.groupby([df.index.floor(\"6H\"), \"id_colums\"]).mean()\n",
    "df['intercontact'] = df['intercontact'].fillna(0)\n",
    "print(df)\n",
    "df.to_csv('MeanIntercontact_Window.csv',    encoding='utf-8')"
   ]
  },
  {
   "cell_type": "code",
   "execution_count": 67,
   "id": "7e5a044d",
   "metadata": {
    "scrolled": true
   },
   "outputs": [
    {
     "ename": "SyntaxError",
     "evalue": "invalid syntax (<ipython-input-67-578c56189e55>, line 7)",
     "output_type": "error",
     "traceback": [
      "\u001b[1;36m  File \u001b[1;32m\"<ipython-input-67-578c56189e55>\"\u001b[1;36m, line \u001b[1;32m7\u001b[0m\n\u001b[1;33m    pct = .apply(lambda x:  tuple(int(x) for ele in sub.split(K)) for sub in df['area id'])\u001b[0m\n\u001b[1;37m          ^\u001b[0m\n\u001b[1;31mSyntaxError\u001b[0m\u001b[1;31m:\u001b[0m invalid syntax\n"
     ]
    }
   ],
   "source": [
    "import re\n",
    "import numpy as np\n",
    "import pandas as pd # data processing\n",
    "df = pd.read_csv(\"locationInfo.csv\", parse_dates = True)\n",
    "df = pd.DataFrame(df)\n",
    "K = \",\"\n",
    "pct = .apply(lambda x:  tuple(int(x) for ele in sub.split(K)) for sub in df['area id'])\n",
    "df['pct'] = pct\n",
    "#df['area id'] = tuple(int(ele) for ele in sub.split(K)) for sub in df['area id']\n",
    "\"\"\"df['area id'] = df['area id'].convert_dtypes()\n",
    "df['area id'] = df['area id'].apply(lambda x: x.replace('[','').replace(']',''))\n",
    "#df['area id'] =[int(x) if x.isnumeric() else x for x in df['area id'] ]\n",
    "pct = df['area id'].apply(lambda x: int(x)**2 )\n",
    "df['pct'] = pct\n",
    "def summLoc():\n",
    "    return sum(2**x)\n",
    "def coerce_to_float(val):\n",
    "    try:\n",
    "       return float(val)\n",
    "    except ValueError:\n",
    "       return val\n",
    "\n",
    "df[\"area id\"] = df[\"area id\"].apply(lambda x: coerce_to_float(x))\n",
    "for x in df['area id']:\n",
    "    def res(x): return x*2\n",
    "    #ans.append(res(x))\n",
    "    print(df.info())\"\"\"\n",
    "#df[\"area id\"] = df[\"area id\"].apply(lambda x: x[1])\n",
    "#df[\"area id\"] = df[\"area id\"].str.split(\",\").apply(lambda x: [int(i, 16) for i in x])\n",
    "print(df.tail(20))\n",
    "#print(df.info())"
   ]
  },
  {
   "cell_type": "code",
   "execution_count": 27,
   "id": "bf242ebd",
   "metadata": {},
   "outputs": [
    {
     "name": "stdout",
     "output_type": "stream",
     "text": [
      "       id_colums area id\n",
      "137965     14,78      15\n",
      "137966     14,78   1, 15\n",
      "137967     14,78      15\n",
      "137968     14,78      15\n",
      "137969     14,78       1\n",
      "137970     14,78       1\n",
      "137971     14,78      15\n",
      "137972     14,78      15\n",
      "137973     14,78      15\n",
      "137974     14,78   1, 15\n",
      "137975     14,78      15\n",
      "137976     14,78       1\n",
      "137977     14,78      15\n",
      "137978     14,78      15\n",
      "137979     14,78      15\n",
      "137980     18,40      75\n",
      "137981     14,78      15\n",
      "137982     14,78      15\n",
      "137983     14,78       1\n",
      "137984     18,40      75\n"
     ]
    },
    {
     "data": {
      "text/plain": [
       "'\\ndf = df.groupby([df.index.floor(\"6H\"), \"id_colums\"]).agg({\\'area id\\': lambda x: list(x)})\\n\\ndf = pd.read_csv(\"locationInfo.csv\")\\ndf = pd.DataFrame(df)\\n\\nprint(df.head())'"
      ]
     },
     "execution_count": 27,
     "metadata": {},
     "output_type": "execute_result"
    }
   ],
   "source": [
    "import pandas as pd # data processing\n",
    "import numpy as np\n",
    "import re\n",
    "#import sysmpy as sy\n",
    "df = pd.read_csv(\"locationInfo.csv\",usecols=['area id','id_colums'])\n",
    "df['area id'] = df['area id'].apply(lambda x: x.replace('[','').replace(']',''))\n",
    "df = pd.DataFrame(df)\n",
    "print(df.tail(20))\n",
    "df.to_csv('areaforPrepo.csv',   index=False,    encoding='utf-8')\n",
    "\"\"\"#print(df.head())\n",
    "#df.set_index(keys = [\"start\", \"id_colums\"])\n",
    "def summLoc():\n",
    "    return sum(2**x)\n",
    "df = df.groupby([df.index.floor(\"6H\"), \"id_colums\"]).agg({'area id': lambda x: list(set(x))})\n",
    "\n",
    "#df['area id'] = df['area id'].apply(lambda x: x.replace('[','').replace(']','').replace(',',\";\"))\n",
    "#df = df[\"area id\"].apply(lambda x: [int(i, 16) for i in x])\n",
    "\n",
    "#print(df.tail())\n",
    "#print(df[\"area id\"].isna().sum())\n",
    "#print(df)\n",
    "\n",
    "df['intercontact'] = df.groupby(['id_colums','start','end']).apply(lambda x:x['start'] - x['end'].shift(1))\n",
    "df = df['intercontact']\n",
    "\n",
    "\n",
    "Slice data and list of area id\n",
    "\n",
    "\n",
    "df = pd.DataFrame(df)\n",
    "#\n",
    "\n",
    "\"\"\"\n",
    "\"\"\"\n",
    "df = df.groupby([df.index.floor(\"6H\"), \"id_colums\"]).agg({'area id': lambda x: list(x)})\n",
    "\n",
    "df = pd.read_csv(\"locationInfo.csv\")\n",
    "df = pd.DataFrame(df)\n",
    "\n",
    "print(df.head())\"\"\"\n",
    "#df = pd.read_csv(\"locationInfo.csv\", usecols=['area id'])\n",
    "#df = pd.DataFrame(df)\n",
    "#df = df.set_index(['start','id_colums'])\n",
    "\n",
    "#def sumList(row):\n",
    "#    return sum(listRow)\n",
    "#s = [str (i) for i in df['area id']]\n",
    "#res = str(\" \".join(s))\n",
    "#print(res)\n",
    "#suml  = df['area id'].to_numpy()\n",
    "#df[\"sum\"] = sum(suml)\n",
    "#df['area id'] = df['area id'].astype(str).astype(int)\n",
    "#es = np.sum(df['area id'].iloc[1])\n",
    "#print(res)\n"
   ]
  },
  {
   "cell_type": "code",
   "execution_count": 74,
   "id": "16277903",
   "metadata": {},
   "outputs": [
    {
     "name": "stdout",
     "output_type": "stream",
     "text": [
      "          total\n",
      "0           2.0\n",
      "1           4.0\n",
      "2           4.0\n",
      "3           4.0\n",
      "4           4.0\n",
      "...         ...\n",
      "137980      0.0\n",
      "137981  32768.0\n",
      "137982  32768.0\n",
      "137983      2.0\n",
      "137984      0.0\n",
      "\n",
      "[137985 rows x 1 columns]\n"
     ]
    },
    {
     "data": {
      "image/png": "[encoded data removed]",
      "text/plain": [
       "<Figure size 432x288 with 1 Axes>"
      ]
     },
     "metadata": {
      "needs_background": "light"
     },
     "output_type": "display_data"
    }
   ],
   "source": [
    "import pandas as pd # data processing\n",
    "import matplotlib.pyplot as plt\n",
    "df = pd.read_csv(\"areaforPrepo2.csv\")\n",
    "\n",
    "plt.xlabel(\"Jumlah\")\n",
    "plt.ylabel(\"area\")\n",
    "plt.title(\"Location Data\")\n",
    "plt.plot(df[\"total\"])\n",
    "df = pd.DataFrame(df)\n",
    "print(df)"
   ]
  },
  {
   "cell_type": "code",
   "execution_count": 12,
   "id": "589d60e8",
   "metadata": {},
   "outputs": [
    {
     "ename": "NameError",
     "evalue": "name 'data' is not defined",
     "output_type": "error",
     "traceback": [
      "\u001b[1;31m---------------------------------------------------------------------------\u001b[0m",
      "\u001b[1;31mNameError\u001b[0m                                 Traceback (most recent call last)",
      "\u001b[1;32m<ipython-input-12-ca76e59c39fd>\u001b[0m in \u001b[0;36m<module>\u001b[1;34m\u001b[0m\n\u001b[1;32m----> 1\u001b[1;33m \u001b[0mplt\u001b[0m\u001b[1;33m.\u001b[0m\u001b[0mplot\u001b[0m\u001b[1;33m(\u001b[0m\u001b[0mdata\u001b[0m\u001b[1;33m.\u001b[0m\u001b[0mCLOSE\u001b[0m\u001b[1;33m)\u001b[0m\u001b[1;33m\u001b[0m\u001b[1;33m\u001b[0m\u001b[0m\n\u001b[0m\u001b[0;32m      2\u001b[0m \u001b[0mplt\u001b[0m\u001b[1;33m.\u001b[0m\u001b[0mgrid\u001b[0m\u001b[1;33m(\u001b[0m\u001b[1;32mFalse\u001b[0m\u001b[1;33m)\u001b[0m\u001b[1;33m\u001b[0m\u001b[1;33m\u001b[0m\u001b[0m\n\u001b[0;32m      3\u001b[0m \u001b[0mplt\u001b[0m\u001b[1;33m.\u001b[0m\u001b[0mshow\u001b[0m\u001b[1;33m(\u001b[0m\u001b[1;33m)\u001b[0m\u001b[1;33m\u001b[0m\u001b[1;33m\u001b[0m\u001b[0m\n",
      "\u001b[1;31mNameError\u001b[0m: name 'data' is not defined"
     ]
    }
   ],
   "source": [
    "plt.plot(data.CLOSE)\n",
    "plt.grid(False)\n",
    "plt.show()"
   ]
  },
  {
   "cell_type": "code",
   "execution_count": 23,
   "id": "4ab3de9c",
   "metadata": {},
   "outputs": [
    {
     "name": "stdout",
     "output_type": "stream",
     "text": [
      "        total  spatialLoc  hitung\n",
      "137935     24           1       2\n",
      "137936     23           2       4\n",
      "137937     24           1       2\n",
      "137938     24           1       2\n",
      "137939     23           2       4\n",
      "137940     24           1       2\n",
      "137941     23           2       4\n",
      "137942     23           2       4\n",
      "137943     24           1       2\n",
      "137944     24           1       2\n",
      "137945     24           1       2\n",
      "137946     24           1       2\n",
      "137947     24           1       2\n",
      "137948     24           1       2\n",
      "137949     24           1       2\n",
      "137950     24           1       2\n",
      "137951     24           1       2\n",
      "137952     24           1       2\n",
      "137953     23           2       4\n",
      "137954     24           1       2\n",
      "137955     24           1       2\n",
      "137956     24           1       2\n",
      "137957     24           1       2\n",
      "137958     24           1       2\n",
      "137959     24           1       2\n",
      "137960     24           1       2\n",
      "137961     24           1       2\n",
      "137962     23           2       4\n",
      "137963     24           1       2\n",
      "137964     24           1       2\n",
      "137965     24           1       2\n",
      "137966     23           2       4\n",
      "137967     24           1       2\n",
      "137968     24           1       2\n",
      "137969     24           1       2\n",
      "137970     24           1       2\n",
      "137971     24           1       2\n",
      "137972     24           1       2\n",
      "137973     24           1       2\n",
      "137974     23           2       4\n",
      "137975     24           1       2\n",
      "137976     24           1       2\n",
      "137977     24           1       2\n",
      "137978     24           1       2\n",
      "137979     24           1       2\n",
      "137980     24           1       2\n",
      "137981     24           1       2\n",
      "137982     24           1       2\n",
      "137983     24           1       2\n",
      "137984     24           1       2\n"
     ]
    }
   ],
   "source": [
    "import pandas as pd # data processing\n",
    "import matplotlib.pyplot as plt\n",
    "import numpy as np\n",
    "df = pd.read_csv(\"areaforPrepo.csv\" )\n",
    "def hitung(x):\n",
    "    return (2**x)\n",
    "#df[['area1','area2','area3','area4','area5','area6','area7','area8', 'area9','area10','area11', 'area12', 'area13', 'area14', 'area15','area16', 'area17', 'area18', 'area19', 'area20','area21','area22','area23','area24']] = df[['area1','area2','area3','area4','area5','area6','area7','area8', 'area9','area10','area11', 'area12', 'area13', 'area14', 'area15','area16', 'area17', 'area18', 'area19', 'area20','area21','area22','area23','area24']].apply(hitung)\n",
    "df['total'] = df.iloc[:, -27:].isna().sum(axis=1)\n",
    "#df = df['total']\n",
    "df['spatialLoc'] = 25 - df['total']\n",
    "df['hitung'] = df['spatialLoc'].apply(hitung)\n",
    "df = df[['total','spatialLoc','hitung']]\n",
    "#print(df['total'].tail(20))\n",
    "#df = df[['id'],['total']]\n",
    "print(df.tail(50))\n",
    "df.to_csv('spatialNonRepeated.csv',   index=False,    encoding='utf-8')"
   ]
  },
  {
   "cell_type": "code",
   "execution_count": 25,
   "id": "1a074642",
   "metadata": {
    "scrolled": true
   },
   "outputs": [
    {
     "ename": "KeyError",
     "evalue": "\"['intercontact'] not in index\"",
     "output_type": "error",
     "traceback": [
      "\u001b[1;31m---------------------------------------------------------------------------\u001b[0m",
      "\u001b[1;31mKeyError\u001b[0m                                  Traceback (most recent call last)",
      "\u001b[1;32m<ipython-input-25-5a5bafcb9c9f>\u001b[0m in \u001b[0;36m<module>\u001b[1;34m\u001b[0m\n\u001b[0;32m     23\u001b[0m \u001b[1;31m#print(df.head(50))\u001b[0m\u001b[1;33m\u001b[0m\u001b[1;33m\u001b[0m\u001b[1;33m\u001b[0m\u001b[0m\n\u001b[0;32m     24\u001b[0m \u001b[0mscaler\u001b[0m \u001b[1;33m=\u001b[0m \u001b[0mStandardScaler\u001b[0m\u001b[1;33m(\u001b[0m\u001b[1;33m)\u001b[0m\u001b[1;33m\u001b[0m\u001b[1;33m\u001b[0m\u001b[0m\n\u001b[1;32m---> 25\u001b[1;33m \u001b[0mdf\u001b[0m\u001b[1;33m[\u001b[0m\u001b[1;33m[\u001b[0m\u001b[1;34m'intercontact'\u001b[0m\u001b[1;33m,\u001b[0m\u001b[1;34m'SpatialLoc'\u001b[0m\u001b[1;33m]\u001b[0m\u001b[1;33m]\u001b[0m \u001b[1;33m=\u001b[0m\u001b[0mscaler\u001b[0m\u001b[1;33m.\u001b[0m\u001b[0mfit_transform\u001b[0m\u001b[1;33m(\u001b[0m\u001b[0mdf\u001b[0m\u001b[1;33m[\u001b[0m\u001b[1;33m[\u001b[0m\u001b[1;34m'intercontact'\u001b[0m\u001b[1;33m,\u001b[0m\u001b[1;34m'SpatialLoc'\u001b[0m\u001b[1;33m]\u001b[0m\u001b[1;33m]\u001b[0m\u001b[1;33m)\u001b[0m\u001b[1;33m\u001b[0m\u001b[1;33m\u001b[0m\u001b[0m\n\u001b[0m\u001b[0;32m     26\u001b[0m \u001b[0mprint\u001b[0m\u001b[1;33m(\u001b[0m\u001b[0mdf\u001b[0m\u001b[1;33m.\u001b[0m\u001b[0mhead\u001b[0m\u001b[1;33m(\u001b[0m\u001b[1;36m50\u001b[0m\u001b[1;33m)\u001b[0m\u001b[1;33m)\u001b[0m\u001b[1;33m\u001b[0m\u001b[1;33m\u001b[0m\u001b[0m\n\u001b[0;32m     27\u001b[0m \u001b[1;31m#new_df = df3.groupby(['id_colums'])['start'].count()\u001b[0m\u001b[1;33m\u001b[0m\u001b[1;33m\u001b[0m\u001b[1;33m\u001b[0m\u001b[0m\n",
      "\u001b[1;32m~\\anaconda3\\lib\\site-packages\\pandas\\core\\frame.py\u001b[0m in \u001b[0;36m__getitem__\u001b[1;34m(self, key)\u001b[0m\n\u001b[0;32m   3028\u001b[0m             \u001b[1;32mif\u001b[0m \u001b[0mis_iterator\u001b[0m\u001b[1;33m(\u001b[0m\u001b[0mkey\u001b[0m\u001b[1;33m)\u001b[0m\u001b[1;33m:\u001b[0m\u001b[1;33m\u001b[0m\u001b[1;33m\u001b[0m\u001b[0m\n\u001b[0;32m   3029\u001b[0m                 \u001b[0mkey\u001b[0m \u001b[1;33m=\u001b[0m \u001b[0mlist\u001b[0m\u001b[1;33m(\u001b[0m\u001b[0mkey\u001b[0m\u001b[1;33m)\u001b[0m\u001b[1;33m\u001b[0m\u001b[1;33m\u001b[0m\u001b[0m\n\u001b[1;32m-> 3030\u001b[1;33m             \u001b[0mindexer\u001b[0m \u001b[1;33m=\u001b[0m \u001b[0mself\u001b[0m\u001b[1;33m.\u001b[0m\u001b[0mloc\u001b[0m\u001b[1;33m.\u001b[0m\u001b[0m_get_listlike_indexer\u001b[0m\u001b[1;33m(\u001b[0m\u001b[0mkey\u001b[0m\u001b[1;33m,\u001b[0m \u001b[0maxis\u001b[0m\u001b[1;33m=\u001b[0m\u001b[1;36m1\u001b[0m\u001b[1;33m,\u001b[0m \u001b[0mraise_missing\u001b[0m\u001b[1;33m=\u001b[0m\u001b[1;32mTrue\u001b[0m\u001b[1;33m)\u001b[0m\u001b[1;33m[\u001b[0m\u001b[1;36m1\u001b[0m\u001b[1;33m]\u001b[0m\u001b[1;33m\u001b[0m\u001b[1;33m\u001b[0m\u001b[0m\n\u001b[0m\u001b[0;32m   3031\u001b[0m \u001b[1;33m\u001b[0m\u001b[0m\n\u001b[0;32m   3032\u001b[0m         \u001b[1;31m# take() does not accept boolean indexers\u001b[0m\u001b[1;33m\u001b[0m\u001b[1;33m\u001b[0m\u001b[1;33m\u001b[0m\u001b[0m\n",
      "\u001b[1;32m~\\anaconda3\\lib\\site-packages\\pandas\\core\\indexing.py\u001b[0m in \u001b[0;36m_get_listlike_indexer\u001b[1;34m(self, key, axis, raise_missing)\u001b[0m\n\u001b[0;32m   1264\u001b[0m             \u001b[0mkeyarr\u001b[0m\u001b[1;33m,\u001b[0m \u001b[0mindexer\u001b[0m\u001b[1;33m,\u001b[0m \u001b[0mnew_indexer\u001b[0m \u001b[1;33m=\u001b[0m \u001b[0max\u001b[0m\u001b[1;33m.\u001b[0m\u001b[0m_reindex_non_unique\u001b[0m\u001b[1;33m(\u001b[0m\u001b[0mkeyarr\u001b[0m\u001b[1;33m)\u001b[0m\u001b[1;33m\u001b[0m\u001b[1;33m\u001b[0m\u001b[0m\n\u001b[0;32m   1265\u001b[0m \u001b[1;33m\u001b[0m\u001b[0m\n\u001b[1;32m-> 1266\u001b[1;33m         \u001b[0mself\u001b[0m\u001b[1;33m.\u001b[0m\u001b[0m_validate_read_indexer\u001b[0m\u001b[1;33m(\u001b[0m\u001b[0mkeyarr\u001b[0m\u001b[1;33m,\u001b[0m \u001b[0mindexer\u001b[0m\u001b[1;33m,\u001b[0m \u001b[0maxis\u001b[0m\u001b[1;33m,\u001b[0m \u001b[0mraise_missing\u001b[0m\u001b[1;33m=\u001b[0m\u001b[0mraise_missing\u001b[0m\u001b[1;33m)\u001b[0m\u001b[1;33m\u001b[0m\u001b[1;33m\u001b[0m\u001b[0m\n\u001b[0m\u001b[0;32m   1267\u001b[0m         \u001b[1;32mreturn\u001b[0m \u001b[0mkeyarr\u001b[0m\u001b[1;33m,\u001b[0m \u001b[0mindexer\u001b[0m\u001b[1;33m\u001b[0m\u001b[1;33m\u001b[0m\u001b[0m\n\u001b[0;32m   1268\u001b[0m \u001b[1;33m\u001b[0m\u001b[0m\n",
      "\u001b[1;32m~\\anaconda3\\lib\\site-packages\\pandas\\core\\indexing.py\u001b[0m in \u001b[0;36m_validate_read_indexer\u001b[1;34m(self, key, indexer, axis, raise_missing)\u001b[0m\n\u001b[0;32m   1314\u001b[0m             \u001b[1;32mif\u001b[0m \u001b[0mraise_missing\u001b[0m\u001b[1;33m:\u001b[0m\u001b[1;33m\u001b[0m\u001b[1;33m\u001b[0m\u001b[0m\n\u001b[0;32m   1315\u001b[0m                 \u001b[0mnot_found\u001b[0m \u001b[1;33m=\u001b[0m \u001b[0mlist\u001b[0m\u001b[1;33m(\u001b[0m\u001b[0mset\u001b[0m\u001b[1;33m(\u001b[0m\u001b[0mkey\u001b[0m\u001b[1;33m)\u001b[0m \u001b[1;33m-\u001b[0m \u001b[0mset\u001b[0m\u001b[1;33m(\u001b[0m\u001b[0max\u001b[0m\u001b[1;33m)\u001b[0m\u001b[1;33m)\u001b[0m\u001b[1;33m\u001b[0m\u001b[1;33m\u001b[0m\u001b[0m\n\u001b[1;32m-> 1316\u001b[1;33m                 \u001b[1;32mraise\u001b[0m \u001b[0mKeyError\u001b[0m\u001b[1;33m(\u001b[0m\u001b[1;34mf\"{not_found} not in index\"\u001b[0m\u001b[1;33m)\u001b[0m\u001b[1;33m\u001b[0m\u001b[1;33m\u001b[0m\u001b[0m\n\u001b[0m\u001b[0;32m   1317\u001b[0m \u001b[1;33m\u001b[0m\u001b[0m\n\u001b[0;32m   1318\u001b[0m             \u001b[0mnot_found\u001b[0m \u001b[1;33m=\u001b[0m \u001b[0mkey\u001b[0m\u001b[1;33m[\u001b[0m\u001b[0mmissing_mask\u001b[0m\u001b[1;33m]\u001b[0m\u001b[1;33m\u001b[0m\u001b[1;33m\u001b[0m\u001b[0m\n",
      "\u001b[1;31mKeyError\u001b[0m: \"['intercontact'] not in index\""
     ]
    }
   ],
   "source": [
    "import pandas as pd # data processing\n",
    "import matplotlib.pyplot as plt\n",
    "import numpy as np\n",
    "from sklearn.preprocessing import StandardScaler\n",
    "df = pd.read_csv(\"DATASET_BERES_update.csv\",parse_dates=True)\n",
    "df2 = pd.read_csv(\"DATASET_BERES1.csv\", usecols=['SpatialLoc'])\n",
    "df = pd.DataFrame(df)\n",
    "df2 = pd.DataFrame(df2)\n",
    "#merged_data =  pd.concat(\n",
    "#    map(pd.read_csv, ['MeanIntercontact_Dataset.csv', 'areaforPrepo2.csv']), ignore_index=True)\n",
    "#merged_data.set_index('ID_', inplace = True)\n",
    "#df2.rename(columns = {'intercontact':'MeanInt_Norm'}, inplace = True)\n",
    "#df3 = pd.concat([df, df2], axis=1)\n",
    "#df = df.drop(df.columns[[4,5]], axis=1)\n",
    "df.rename(columns = {'intercontact':'MeanInt'},inplace = True)\n",
    "\"\"\"    'MeanInt_Standarization':'Mean_intercontact',\n",
    "                     'SpatialLoc_Standarization':'SpatialLoc',\n",
    "                     'intercontact':'MeanInt_Standarization',\n",
    "                     'spatiaLoc':'SpatialLoc_Standarization'}, inplace = True)\"\"\"\n",
    "#print(df3)\n",
    "#newdf = [\"start\",\"id_colums\",\"intercontact\",\"SpatialLoc\"]\n",
    "#df = df[newdf]\n",
    "#print(df.head(50))\n",
    "scaler = StandardScaler()\n",
    "df[['intercontact','SpatialLoc']] =scaler.fit_transform(df[['intercontact','SpatialLoc']])\n",
    "print(df.head(50))\n",
    "#new_df = df3.groupby(['id_colums'])['start'].count()\n",
    "\n",
    "#print(new_df.head(30))\n",
    "#print(new_df1.head(30))\n",
    "#print(len(new_df))\n",
    "#df.to_csv('DATASET_BERES_WindowzScore.csv',   index=False,    encoding='utf-8')"
   ]
  },
  {
   "cell_type": "code",
   "execution_count": 17,
   "id": "365bf5b3",
   "metadata": {
    "scrolled": true
   },
   "outputs": [
    {
     "name": "stdout",
     "output_type": "stream",
     "text": [
      "(id_colums            0,1  0,10  0,11  0,12  0,13  0,14  0,15  0,16  0,17  \\\n",
      "start                                                                      \n",
      "2004-07-19 12:00:00  NaN   NaN   NaN   NaN   NaN   NaN   NaN   NaN   NaN   \n",
      "2004-07-20 06:00:00  NaN   NaN   NaN   NaN   NaN   NaN   NaN   NaN   NaN   \n",
      "2004-07-20 12:00:00  NaN   NaN   NaN   NaN   NaN   NaN   NaN   NaN   NaN   \n",
      "2004-07-21 00:00:00  NaN   NaN   NaN   NaN   NaN   NaN   NaN   NaN   NaN   \n",
      "2004-07-21 06:00:00  NaN   NaN   NaN   NaN   NaN   NaN   NaN   NaN   NaN   \n",
      "...                  ...   ...   ...   ...   ...   ...   ...   ...   ...   \n",
      "2005-06-20 06:00:00  NaN   NaN   NaN   NaN   NaN   NaN   NaN   NaN   NaN   \n",
      "2005-06-20 12:00:00  NaN   NaN   NaN   NaN   NaN   NaN   NaN   NaN   NaN   \n",
      "2005-06-20 18:00:00  NaN   NaN   NaN   NaN   NaN   NaN   NaN   NaN   NaN   \n",
      "2005-06-21 12:00:00  NaN   NaN   NaN   NaN   NaN   NaN   NaN   NaN   NaN   \n",
      "2005-06-22 12:00:00  NaN   NaN   NaN   NaN   NaN   NaN   NaN   NaN   NaN   \n",
      "\n",
      "id_colums            0,18  ...  9,75  9,76  9,79  9,80  9,81  9,82  9,85  \\\n",
      "start                      ...                                             \n",
      "2004-07-19 12:00:00   NaN  ...   NaN   NaN   NaN   NaN   NaN   NaN   NaN   \n",
      "2004-07-20 06:00:00   NaN  ...   NaN   NaN   NaN   NaN   NaN   NaN   NaN   \n",
      "2004-07-20 12:00:00   NaN  ...   NaN   NaN   NaN   NaN   NaN   NaN   NaN   \n",
      "2004-07-21 00:00:00   NaN  ...   NaN   NaN   NaN   NaN   NaN   NaN   NaN   \n",
      "2004-07-21 06:00:00   NaN  ...   NaN   NaN   NaN   NaN   NaN   NaN   NaN   \n",
      "...                   ...  ...   ...   ...   ...   ...   ...   ...   ...   \n",
      "2005-06-20 06:00:00   NaN  ...   NaN   NaN   NaN   NaN   NaN   NaN   NaN   \n",
      "2005-06-20 12:00:00   NaN  ...   NaN   NaN   NaN   NaN   NaN   NaN   NaN   \n",
      "2005-06-20 18:00:00   NaN  ...   NaN   NaN   NaN   NaN   NaN   NaN   NaN   \n",
      "2005-06-21 12:00:00   NaN  ...   NaN   NaN   NaN   NaN   NaN   NaN   NaN   \n",
      "2005-06-22 12:00:00   NaN  ...   NaN   NaN   NaN   NaN   NaN   NaN   NaN   \n",
      "\n",
      "id_colums            9,86  9,87  9,88  \n",
      "start                                  \n",
      "2004-07-19 12:00:00   NaN   NaN   NaN  \n",
      "2004-07-20 06:00:00   NaN   NaN   NaN  \n",
      "2004-07-20 12:00:00   NaN   NaN   NaN  \n",
      "2004-07-21 00:00:00   NaN   NaN   NaN  \n",
      "2004-07-21 06:00:00   NaN   NaN   NaN  \n",
      "...                   ...   ...   ...  \n",
      "2005-06-20 06:00:00   NaN   NaN   NaN  \n",
      "2005-06-20 12:00:00   NaN   NaN   NaN  \n",
      "2005-06-20 18:00:00   NaN   NaN   NaN  \n",
      "2005-06-21 12:00:00   NaN   NaN   NaN  \n",
      "2005-06-22 12:00:00   NaN   NaN   NaN  \n",
      "\n",
      "[1225 rows x 2132 columns], ['SpatialLoc'])\n"
     ]
    }
   ],
   "source": [
    "import pandas as pd # data processing\n",
    "import matplotlib.pyplot as plt\n",
    "import numpy as np\n",
    "from sklearn.preprocessing import StandardScaler\n",
    "df = pd.read_csv(\"DATASET_BERES_WindowzScore_ID.csv\",parse_dates=True)\n",
    "df = pd.DataFrame(df)\n",
    "#df_pivot=df.pivot(index=['id_colums'], columns='start')['intercontact'],['SpatialLoc']\n",
    "df_pivot=df.pivot(index=['start'], columns='id_colums')['intercontact'],['SpatialLoc']\n",
    "print(df_pivot)\n"
   ]
  },
  {
   "cell_type": "code",
   "execution_count": null,
   "id": "0112aa02",
   "metadata": {},
   "outputs": [],
   "source": []
  },
  {
   "cell_type": "code",
   "execution_count": null,
   "id": "e49fcbde",
   "metadata": {},
   "outputs": [],
   "source": []
  }
 ],
 "metadata": {
  "kernelspec": {
   "display_name": "Python 3",
   "language": "python",
   "name": "python3"
  },
  "language_info": {
   "codemirror_mode": {
    "name": "ipython",
    "version": 3
   },
   "file_extension": ".py",
   "mimetype": "text/x-python",
   "name": "python",
   "nbconvert_exporter": "python",
   "pygments_lexer": "ipython3",
   "version": "3.8.8"
  }
 },
 "nbformat": 4,
 "nbformat_minor": 5
}
