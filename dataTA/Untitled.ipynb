{
 "cells": [
  {
   "cell_type": "code",
   "execution_count": 16,
   "metadata": {},
   "outputs": [
    {
     "name": "stdout",
     "output_type": "stream",
     "text": [
      "            DateTime1           DateTime2 idPair\n",
      "0 2004-07-19 12:04:13 2004-07-19 12:08:45    1,3\n",
      "1 2004-07-19 12:37:31 2004-07-19 12:38:19    4,7\n",
      "2 2004-07-19 12:38:21 2004-07-19 12:41:58    4,7\n",
      "3 2004-07-20 08:00:44 2004-07-20 08:00:55    4,5\n",
      "4 2004-07-20 08:01:10 2004-07-20 08:02:48    4,5\n",
      "<class 'pandas.core.frame.DataFrame'>\n",
      "RangeIndex: 5 entries, 0 to 4\n",
      "Data columns (total 3 columns):\n",
      " #   Column     Non-Null Count  Dtype         \n",
      "---  ------     --------------  -----         \n",
      " 0   DateTime1  5 non-null      datetime64[ns]\n",
      " 1   DateTime2  5 non-null      datetime64[ns]\n",
      " 2   idPair     5 non-null      object        \n",
      "dtypes: datetime64[ns](2), object(1)\n",
      "memory usage: 248.0+ bytes\n",
      "None\n"
     ]
    }
   ],
   "source": [
    "# importing pandas package\n",
    "import pandas as pd\n",
    "data = {'DateTime1': ['2004-07-19 12:04:13',\n",
    "                                '2004-07-19 12:37:31',\n",
    "                                '2004-07-19 12:38:21',\n",
    "                                '2004-07-20 08:00:44',\n",
    "                                '2004-07-20 08:01:10'],\n",
    "       'DateTime2' : ['2004-07-19 12:08:45',\n",
    "                     '2004-07-19 12:38:19',\n",
    "                     '2004-07-19 12:41:58',\n",
    "                     '2004-07-20 08:00:55',\n",
    "                     '2004-07-20 08:02:48'],\n",
    "       'idPair' : ['1,3', '4,7','4,7','4,5','4,5']}\n",
    "\n",
    "\n",
    "a = pd.DataFrame(data)\n",
    "a['DateTime1'] = pd.to_datetime(a['DateTime1'])\n",
    "a['DateTime2'] = pd.to_datetime(a['DateTime2'])\n",
    "\n",
    "print(a)\n",
    "print(a.info())"
   ]
  },
  {
   "cell_type": "code",
   "execution_count": 27,
   "metadata": {},
   "outputs": [
    {
     "ename": "TypeError",
     "evalue": "unsupported operand type(s) for -: 'str' and 'str'",
     "output_type": "error",
     "traceback": [
      "\u001b[1;31m---------------------------------------------------------------------------\u001b[0m",
      "\u001b[1;31mTypeError\u001b[0m                                 Traceback (most recent call last)",
      "\u001b[1;32m<ipython-input-27-29a582058024>\u001b[0m in \u001b[0;36m<module>\u001b[1;34m\u001b[0m\n\u001b[0;32m     11\u001b[0m \u001b[1;33m\u001b[0m\u001b[0m\n\u001b[0;32m     12\u001b[0m     \u001b[0mmy_start_times\u001b[0m\u001b[1;33m.\u001b[0m\u001b[0mappend\u001b[0m\u001b[1;33m(\u001b[0m\u001b[0mstart_time\u001b[0m\u001b[1;33m)\u001b[0m\u001b[1;33m\u001b[0m\u001b[1;33m\u001b[0m\u001b[0m\n\u001b[1;32m---> 13\u001b[1;33m     \u001b[0mmy_intercontact_duration\u001b[0m\u001b[1;33m.\u001b[0m\u001b[0mappend\u001b[0m\u001b[1;33m(\u001b[0m\u001b[0mend_time\u001b[0m \u001b[1;33m-\u001b[0m \u001b[0mstart_time\u001b[0m\u001b[1;33m)\u001b[0m\u001b[1;33m\u001b[0m\u001b[1;33m\u001b[0m\u001b[0m\n\u001b[0m\u001b[0;32m     14\u001b[0m     \u001b[0mplt\u001b[0m\u001b[1;33m.\u001b[0m\u001b[0mscatter\u001b[0m\u001b[1;33m(\u001b[0m\u001b[0mmy_start_times\u001b[0m\u001b[1;33m,\u001b[0m \u001b[0mmy_intercontact_duration\u001b[0m\u001b[1;33m)\u001b[0m\u001b[1;33m\u001b[0m\u001b[1;33m\u001b[0m\u001b[0m\n\u001b[0;32m     15\u001b[0m     \u001b[0mplt\u001b[0m\u001b[1;33m.\u001b[0m\u001b[0mylabel\u001b[0m\u001b[1;33m(\u001b[0m\u001b[1;34m\"intercontact duration\"\u001b[0m\u001b[1;33m)\u001b[0m\u001b[1;33m\u001b[0m\u001b[1;33m\u001b[0m\u001b[0m\n",
      "\u001b[1;31mTypeError\u001b[0m: unsupported operand type(s) for -: 'str' and 'str'"
     ]
    }
   ],
   "source": [
    "import matplotlib.pyplot as plt\n",
    "import pandas as pd\n",
    "data_file = pd.read_csv(\"location_dataset.csv\", parse_dates=True)\n",
    "my_data = pd.DataFrame(data_file)\n",
    "\n",
    "my_start_times = []\n",
    "my_intercontact_duration = []\n",
    "for data in my_data:\n",
    "    start_time = data[0]\n",
    "    end_time = data[1]\n",
    "   \n",
    "    my_start_times.append(start_time)\n",
    "    my_intercontact_duration.append(end_time - start_time)\n",
    "    plt.scatter(my_start_times, my_intercontact_duration)\n",
    "    plt.ylabel(\"intercontact duration\")\n",
    "plt.xlabel(\"time\")\n",
    "plt.title(\"Evolution of intercontact duration along time\")"
   ]
  },
  {
   "cell_type": "code",
   "execution_count": null,
   "metadata": {},
   "outputs": [],
   "source": [
    "my_data  = []\n",
    "with open(data_file, \"r\") as my_file:\n",
    "    for line in my_file:\n",
    "        line = line.split()\n",
    "        my_data.append([int(i) for i in line])\n",
    "my_start_times = []\n",
    "my_intercontact_duration = []"
   ]
  }
 ],
 "metadata": {
  "kernelspec": {
   "display_name": "Python 3",
   "language": "python",
   "name": "python3"
  },
  "language_info": {
   "codemirror_mode": {
    "name": "ipython",
    "version": 3
   },
   "file_extension": ".py",
   "mimetype": "text/x-python",
   "name": "python",
   "nbconvert_exporter": "python",
   "pygments_lexer": "ipython3",
   "version": "3.8.3"
  }
 },
 "nbformat": 4,
 "nbformat_minor": 5
}
