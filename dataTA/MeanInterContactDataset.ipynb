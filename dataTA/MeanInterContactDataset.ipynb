{
 "cells": [
  {
   "cell_type": "code",
   "execution_count": 3,
   "id": "1abc0d25",
   "metadata": {},
   "outputs": [],
   "source": [
    "import pandas as pd # data processing\n",
    "df = pd.read_csv(\"location_dataset.csv\", usecols=['start','end','id_colums'])\n",
    "df = pd.DataFrame(df)\n",
    "#df = df = df.groupby([df.index.floor(\"6H\"), \"id_colums\"])\n",
    "\n",
    "#read_file = pd.read_csv('data_olah1 - Copy.csv')\n"
   ]
  },
  {
   "cell_type": "code",
   "execution_count": 7,
   "id": "008c4f7b",
   "metadata": {},
   "outputs": [
    {
     "name": "stdout",
     "output_type": "stream",
     "text": [
      "                 start                  end id_colums\n",
      "0  2004-07-19 12:04:13  2004-07-19 12:08:45       1,3\n",
      "1  2004-07-19 12:37:31  2004-07-19 12:38:19       4,7\n",
      "2  2004-07-19 12:38:21  2004-07-19 12:41:58       4,7\n",
      "3  2004-07-20 08:00:44  2004-07-20 08:00:55       4,5\n",
      "4  2004-07-20 08:01:10  2004-07-20 08:02:48       4,5\n",
      "5  2004-07-20 09:02:22  2004-07-20 09:02:32       5,7\n",
      "6  2004-07-20 09:07:28  2004-07-20 09:07:31       5,7\n",
      "7  2004-07-20 09:07:31  2004-07-20 09:07:36       5,7\n",
      "8  2004-07-20 09:07:58  2004-07-20 09:08:11       5,7\n",
      "9  2004-07-20 09:08:21  2004-07-20 09:08:56       5,7\n",
      "<class 'pandas.core.frame.DataFrame'>\n",
      "RangeIndex: 786301 entries, 0 to 786300\n",
      "Data columns (total 3 columns):\n",
      " #   Column     Non-Null Count   Dtype \n",
      "---  ------     --------------   ----- \n",
      " 0   start      786301 non-null  object\n",
      " 1   end        786301 non-null  object\n",
      " 2   id_colums  786301 non-null  object\n",
      "dtypes: object(3)\n",
      "memory usage: 18.0+ MB\n",
      "None\n"
     ]
    }
   ],
   "source": [
    "print(df.head(10))\n",
    "print(df.info())"
   ]
  },
  {
   "cell_type": "code",
   "execution_count": 8,
   "id": "48506b94",
   "metadata": {},
   "outputs": [
    {
     "ename": "SyntaxError",
     "evalue": "invalid syntax (<ipython-input-8-a8a8831c2798>, line 1)",
     "output_type": "error",
     "traceback": [
      "\u001b[1;36m  File \u001b[1;32m\"<ipython-input-8-a8a8831c2798>\"\u001b[1;36m, line \u001b[1;32m1\u001b[0m\n\u001b[1;33m    def intercontact\u001b[0m\n\u001b[1;37m                     ^\u001b[0m\n\u001b[1;31mSyntaxError\u001b[0m\u001b[1;31m:\u001b[0m invalid syntax\n"
     ]
    }
   ],
   "source": [
    "def intercontact \n",
    "my_start_times = []\n",
    "my_intercontact_duration = []\n",
    "for data in my_data:\n",
    "    start_time = data[2]\n",
    "    end_time = data[3]\n",
    "    my_start_times.append(start_time)\n",
    "    my_intercontact_duration.append(end_time - start_time)"
   ]
  },
  {
   "cell_type": "code",
   "execution_count": 16,
   "id": "1a6f78b0",
   "metadata": {},
   "outputs": [
    {
     "name": "stdout",
     "output_type": "stream",
     "text": [
      "                      start\n",
      "0       2004-07-19 12:00:00\n",
      "1       2004-07-19 12:00:00\n",
      "2       2004-07-20 06:00:00\n",
      "3       2004-07-20 06:00:00\n",
      "4       2004-07-20 06:00:00\n",
      "...                     ...\n",
      "137980  2005-06-20 06:00:00\n",
      "137981  2005-06-20 12:00:00\n",
      "137982  2005-06-20 18:00:00\n",
      "137983  2005-06-21 12:00:00\n",
      "137984  2005-06-22 12:00:00\n",
      "\n",
      "[137985 rows x 1 columns]\n"
     ]
    }
   ],
   "source": [
    "import pandas as pd # data processing\n",
    "df = pd.read_csv(\"locationInfo.csv\", usecols=['start'])\n",
    "df = pd.DataFrame(df)\n",
    "print(df)"
   ]
  },
  {
   "cell_type": "code",
   "execution_count": null,
   "id": "b33ae373",
   "metadata": {},
   "outputs": [],
   "source": []
  }
 ],
 "metadata": {
  "kernelspec": {
   "display_name": "Python 3",
   "language": "python",
   "name": "python3"
  },
  "language_info": {
   "codemirror_mode": {
    "name": "ipython",
    "version": 3
   },
   "file_extension": ".py",
   "mimetype": "text/x-python",
   "name": "python",
   "nbconvert_exporter": "python",
   "pygments_lexer": "ipython3",
   "version": "3.8.8"
  }
 },
 "nbformat": 4,
 "nbformat_minor": 5
}
