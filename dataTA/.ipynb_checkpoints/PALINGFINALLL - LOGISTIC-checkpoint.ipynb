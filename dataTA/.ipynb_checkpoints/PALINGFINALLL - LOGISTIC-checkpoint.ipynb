{
 "cells": [
  {
   "cell_type": "code",
   "execution_count": 21,
   "metadata": {},
   "outputs": [
    {
     "name": "stdout",
     "output_type": "stream",
     "text": [
      "                    idpair  intercontact  SpatialLoc  connected\n",
      "time_window                                                    \n",
      "2004-07-19 12:00:00    0,1           0.0         0.0          0\n",
      "2004-07-19 12:00:00    0,2           0.0         0.0          0\n",
      "2004-07-19 12:00:00    0,4           0.0         0.0          0\n"
     ]
    }
   ],
   "source": [
    "import pandas as pd # data processing\n",
    "import matplotlib.pyplot as plt\n",
    "import numpy as np\n",
    "import itertools\n",
    "\n",
    "df = pd.read_csv(\"DataOlahFINAL.csv\")\n",
    "\n",
    "pair = df['id_pair'].to_numpy().tolist()\n",
    "time = df['time_window'].to_numpy().tolist()\n",
    "df = pd.DataFrame(list(itertools.product(time,pair)), columns=['time_window','idpair'])\n",
    "df = df.dropna()\n",
    "df2 = pd.read_csv(\"DASASETFINALFIXXXXXX.csv\")\n",
    "df2 = pd.DataFrame(df2)\n",
    "df3 = pd.merge(df, df2, how=\"left\", on=[\"time_window\",\"idpair\"])\n",
    "df3 = df3.fillna(0)\n",
    "df3['connected'] = df3['connected'].astype(int)\n",
    "df3 = df3.set_index(['time_window'])\n",
    "\n",
    "print(df3.head(3))"
   ]
  },
  {
   "cell_type": "code",
   "execution_count": 18,
   "metadata": {},
   "outputs": [
    {
     "name": "stdout",
     "output_type": "stream",
     "text": [
      "<class 'pandas.core.frame.DataFrame'>\n",
      "Index: 2609568 entries, 2004-07-19 12:00:00 to 2005-06-21 12:00:00\n",
      "Data columns (total 4 columns):\n",
      " #   Column        Dtype  \n",
      "---  ------        -----  \n",
      " 0   idpair        object \n",
      " 1   intercontact  float64\n",
      " 2   SpatialLoc    float64\n",
      " 3   connected     float64\n",
      "dtypes: float64(3), object(1)\n",
      "memory usage: 99.5+ MB\n",
      "None\n"
     ]
    }
   ],
   "source": [
    "print(df3.info())"
   ]
  },
  {
   "cell_type": "code",
   "execution_count": 23,
   "metadata": {},
   "outputs": [
    {
     "name": "stdout",
     "output_type": "stream",
     "text": [
      "                    idpair  intercontact  SpatialLoc  connected\n",
      "time_window                                                    \n",
      "2004-07-19 12:00:00    0,1     -0.064323   -0.000845          0\n",
      "2004-07-19 12:00:00    0,2     -0.064323   -0.000845          0\n",
      "2004-07-19 12:00:00    0,4     -0.064323   -0.000845          0\n"
     ]
    }
   ],
   "source": [
    "from sklearn.preprocessing import StandardScaler\n",
    "scaler = StandardScaler()\n",
    "import scipy.stats as stats\n",
    "df3[[\"intercontact\",\"SpatialLoc\"]] = stats.zscore(df3[[\"intercontact\",\"SpatialLoc\"]])\n",
    "#dataScale = scaler.fit(dataScale)\n",
    "#dataScale = scaler.transform(dataScale)\n",
    "print(df3.head(3))\n"
   ]
  },
  {
   "cell_type": "code",
   "execution_count": 30,
   "metadata": {},
   "outputs": [
    {
     "name": "stdout",
     "output_type": "stream",
     "text": [
      "                    idpair  intercontact  SpatialLoc  \\\n",
      "time_window                                            \n",
      "2004-07-19 12:00:00    0,1     -0.064323   -0.000845   \n",
      "2004-07-19 12:00:00    0,2     -0.064323   -0.000845   \n",
      "2004-07-19 12:00:00    0,4     -0.064323   -0.000845   \n",
      "\n",
      "                                                              vect  connected  \n",
      "time_window                                                                    \n",
      "2004-07-19 12:00:00  [-0.0643227579277854, -0.0008446706976810582]          0  \n",
      "2004-07-19 12:00:00  [-0.0643227579277854, -0.0008446706976810582]          0  \n",
      "2004-07-19 12:00:00  [-0.0643227579277854, -0.0008446706976810582]          0  \n"
     ]
    }
   ],
   "source": [
    "vect = df3[['intercontact','SpatialLoc']].to_numpy().tolist()\n",
    "df3['vect'] = vect\n",
    "df3 = df3[['idpair','intercontact','SpatialLoc','vect','connected']]\n",
    "print(df3.head(3))"
   ]
  },
  {
   "cell_type": "code",
   "execution_count": 32,
   "metadata": {
    "scrolled": false
   },
   "outputs": [
    {
     "name": "stdout",
     "output_type": "stream",
     "text": [
      "                    idpair  intercontact  SpatialLoc  \\\n",
      "time_window                                            \n",
      "2004-08-01 06:00:00    0,1     -0.064323   -0.000845   \n",
      "2004-08-01 06:00:00    0,2     -0.064323   -0.000845   \n",
      "2004-08-01 06:00:00    0,4     -0.064323   -0.000845   \n",
      "2004-08-01 06:00:00    0,5     -0.064323   -0.000845   \n",
      "2004-08-01 06:00:00    0,6     -0.064323   -0.000845   \n",
      "...                    ...           ...         ...   \n",
      "2004-11-30 18:00:00  86,87     -0.064323   -0.000845   \n",
      "2004-11-30 18:00:00  86,88     -0.064323   -0.000845   \n",
      "2004-11-30 18:00:00  86,89     -0.064323   -0.000845   \n",
      "2004-11-30 18:00:00  87,88     -0.064323   -0.000845   \n",
      "2004-11-30 18:00:00  88,89     -0.064323   -0.000845   \n",
      "\n",
      "                                                              vect  connected  \n",
      "time_window                                                                    \n",
      "2004-08-01 06:00:00  [-0.0643227579277854, -0.0008446706976810582]          0  \n",
      "2004-08-01 06:00:00  [-0.0643227579277854, -0.0008446706976810582]          0  \n",
      "2004-08-01 06:00:00  [-0.0643227579277854, -0.0008446706976810582]          0  \n",
      "2004-08-01 06:00:00  [-0.0643227579277854, -0.0008446706976810582]          0  \n",
      "2004-08-01 06:00:00  [-0.0643227579277854, -0.0008446706976810582]          0  \n",
      "...                                                            ...        ...  \n",
      "2004-11-30 18:00:00  [-0.0643227579277854, -0.0008446706976810582]          0  \n",
      "2004-11-30 18:00:00  [-0.0643227579277854, -0.0008446706976810582]          0  \n",
      "2004-11-30 18:00:00  [-0.0643227579277854, -0.0008446706976810582]          0  \n",
      "2004-11-30 18:00:00  [-0.0643227579277854, -0.0008446706976810582]          0  \n",
      "2004-11-30 18:00:00  [-0.0643227579277854, -0.0008446706976810582]          0  \n",
      "\n",
      "[957268 rows x 5 columns]\n"
     ]
    }
   ],
   "source": [
    "\n",
    "#df3['time_window'] = pd.to_datetime(df3['time_window'],  format=\"%Y-%m-%d %H:%M:%S\")\n",
    "df3 = df3.loc['2004-08-01 00:00:00':'2004-11-31 12:00:00']\n",
    "print(df3)"
   ]
  },
  {
   "cell_type": "code",
   "execution_count": null,
   "metadata": {
    "scrolled": true
   },
   "outputs": [],
   "source": []
  },
  {
   "cell_type": "code",
   "execution_count": null,
   "metadata": {},
   "outputs": [],
   "source": []
  }
 ],
 "metadata": {
  "kernelspec": {
   "display_name": "Python 3",
   "language": "python",
   "name": "python3"
  },
  "language_info": {
   "codemirror_mode": {
    "name": "ipython",
    "version": 3
   },
   "file_extension": ".py",
   "mimetype": "text/x-python",
   "name": "python",
   "nbconvert_exporter": "python",
   "pygments_lexer": "ipython3",
   "version": "3.8.3"
  }
 },
 "nbformat": 4,
 "nbformat_minor": 4
}
